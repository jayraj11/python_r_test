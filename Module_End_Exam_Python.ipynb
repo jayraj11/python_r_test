{
  "nbformat": 4,
  "nbformat_minor": 0,
  "metadata": {
    "colab": {
      "name": "Module End Exam - Python.ipynb",
      "provenance": [],
      "collapsed_sections": []
    },
    "kernelspec": {
      "name": "python3",
      "display_name": "Python 3"
    },
    "language_info": {
      "name": "python"
    }
  },
  "cells": [
    {
      "cell_type": "markdown",
      "source": [
        "**Q.1) Convert given hrs & mins in second**"
      ],
      "metadata": {
        "id": "VEKrhYx6kP1e"
      }
    },
    {
      "cell_type": "code",
      "execution_count": 1,
      "metadata": {
        "colab": {
          "base_uri": "https://localhost:8080/"
        },
        "id": "edvc3fnifaPs",
        "outputId": "8219ee72-794c-40f3-b13f-2b631ccc7dac"
      },
      "outputs": [
        {
          "output_type": "stream",
          "name": "stdout",
          "text": [
            "Enter hours: 2\n",
            "Enter minutes: 30\n",
            "2 hours and 30 minutes are total 9000 seconds.\n"
          ]
        }
      ],
      "source": [
        "hr=int(input('Enter hours: '))\n",
        "min=int(input('Enter minutes: '))\n",
        "sec= (hr*3600)+(min*60)\n",
        "print(hr,'hours and',min,'minutes are total',sec,'seconds.')"
      ]
    },
    {
      "cell_type": "markdown",
      "source": [
        "**Q.2) Write code to find the average of ‘n’ numbers entered by the user to function avg ( ).**"
      ],
      "metadata": {
        "id": "eQ-aFkqVlu1V"
      }
    },
    {
      "cell_type": "code",
      "source": [
        "n=int(input('Enter number: '))\n",
        "sum=0\n",
        "for n in range(1, n+1):\n",
        "  sum+=n\n",
        "avg= sum/n\n",
        "print('Average is: ',avg)"
      ],
      "metadata": {
        "colab": {
          "base_uri": "https://localhost:8080/"
        },
        "id": "EApraHDyliiU",
        "outputId": "f664239f-c5ed-41e3-facc-a1310999a13d"
      },
      "execution_count": 37,
      "outputs": [
        {
          "output_type": "stream",
          "name": "stdout",
          "text": [
            "Enter number: 20\n",
            "Average is:  10.5\n"
          ]
        }
      ]
    },
    {
      "cell_type": "markdown",
      "source": [
        "**Q.3) Print Pattern.**"
      ],
      "metadata": {
        "id": "DDWWwqRmozHO"
      }
    },
    {
      "cell_type": "code",
      "source": [
        "for i in range(1,6):\n",
        "  for j in range(1,i+1):\n",
        "    print(j%2,end=\" \")\n",
        "  print()"
      ],
      "metadata": {
        "colab": {
          "base_uri": "https://localhost:8080/"
        },
        "id": "IXcK4xmqndvk",
        "outputId": "1aa4d695-a9f2-4520-c682-c02d1dd2a026"
      },
      "execution_count": 26,
      "outputs": [
        {
          "output_type": "stream",
          "name": "stdout",
          "text": [
            "1 \n",
            "1 0 \n",
            "1 0 1 \n",
            "1 0 1 0 \n",
            "1 0 1 0 1 \n"
          ]
        }
      ]
    },
    {
      "cell_type": "markdown",
      "source": [
        "**Q.5) Create class**"
      ],
      "metadata": {
        "id": "V0ZhFJ0XvTW-"
      }
    },
    {
      "cell_type": "code",
      "source": [
        "class Maths:\n",
        "  def __init__(self):\n",
        "    self.a=int(input('Enter first number: '))\n",
        "    self.b=int(input('Enter second number: '))\n",
        "  def add(self):\n",
        "    print('Addition is: ',self.a+self.b)\n",
        "  def sub(self):\n",
        "    print('Subtraction is: ',self.a-self.b)\n",
        "  def multi(self):\n",
        "    print('Multiplication is: ',self.a*self.b)\n",
        "  def div(self):\n",
        "    print('Multiplication is: ',self.a/self.b)"
      ],
      "metadata": {
        "id": "XpEq_YMIn7XS"
      },
      "execution_count": 18,
      "outputs": []
    },
    {
      "cell_type": "code",
      "source": [
        "x=Maths()"
      ],
      "metadata": {
        "colab": {
          "base_uri": "https://localhost:8080/"
        },
        "id": "s4vSQL9_waNa",
        "outputId": "d74b20dc-37f7-4cdd-a689-8552d43f4ef0"
      },
      "execution_count": 19,
      "outputs": [
        {
          "name": "stdout",
          "output_type": "stream",
          "text": [
            "Enter first number: 50\n",
            "Enter second number: 5\n"
          ]
        }
      ]
    },
    {
      "cell_type": "code",
      "source": [
        "x.add()"
      ],
      "metadata": {
        "colab": {
          "base_uri": "https://localhost:8080/"
        },
        "id": "l4h9BaXMwj7Q",
        "outputId": "ad879091-0f69-4571-9c32-d08798c06966"
      },
      "execution_count": 20,
      "outputs": [
        {
          "output_type": "stream",
          "name": "stdout",
          "text": [
            "Addition is:  55\n"
          ]
        }
      ]
    },
    {
      "cell_type": "code",
      "source": [
        "x.sub()"
      ],
      "metadata": {
        "colab": {
          "base_uri": "https://localhost:8080/"
        },
        "id": "27n32kfGww6x",
        "outputId": "eb0a4fec-4b87-4fa9-fc2a-1095623e5530"
      },
      "execution_count": 21,
      "outputs": [
        {
          "output_type": "stream",
          "name": "stdout",
          "text": [
            "Subtraction is:  45\n"
          ]
        }
      ]
    },
    {
      "cell_type": "code",
      "source": [
        "x.multi()"
      ],
      "metadata": {
        "colab": {
          "base_uri": "https://localhost:8080/"
        },
        "id": "cmbkYE_QxiQI",
        "outputId": "dcdb74ec-5c37-41d4-9240-40b206df151c"
      },
      "execution_count": 22,
      "outputs": [
        {
          "output_type": "stream",
          "name": "stdout",
          "text": [
            "Multiplication is:  250\n"
          ]
        }
      ]
    },
    {
      "cell_type": "code",
      "source": [
        "x.div()"
      ],
      "metadata": {
        "colab": {
          "base_uri": "https://localhost:8080/"
        },
        "id": "MSUbC1Soxkmp",
        "outputId": "96ff1713-85de-4f26-990c-2be34d36e6a6"
      },
      "execution_count": 23,
      "outputs": [
        {
          "output_type": "stream",
          "name": "stdout",
          "text": [
            "Multiplication is:  10.0\n"
          ]
        }
      ]
    },
    {
      "cell_type": "markdown",
      "source": [
        "**Q.8) Print pattern.**"
      ],
      "metadata": {
        "id": "c6ObkOiLxqWc"
      }
    },
    {
      "cell_type": "code",
      "source": [
        "a='13567'\n",
        "for i in range(0,len(a)):\n",
        "    print(a[i]*(i+1))"
      ],
      "metadata": {
        "colab": {
          "base_uri": "https://localhost:8080/"
        },
        "id": "lWE4wDXaxnKK",
        "outputId": "a8cdff17-57d9-4eb1-b620-01872a9b1d72"
      },
      "execution_count": 40,
      "outputs": [
        {
          "output_type": "stream",
          "name": "stdout",
          "text": [
            "1\n",
            "33\n",
            "555\n",
            "6666\n",
            "77777\n"
          ]
        }
      ]
    },
    {
      "cell_type": "markdown",
      "source": [
        "**Q.10) Create menu driven code**"
      ],
      "metadata": {
        "id": "coWssAq82VX8"
      }
    },
    {
      "cell_type": "code",
      "source": [
        "a=int(input('Enter first number: '))\n",
        "b=int(input('Enter second number: '))\n",
        "m=input('Enter choice: + | - | * | / : ')\n",
        "if m=='+':\n",
        "  print('Addition is: ',a+b)\n",
        "elif m=='-':\n",
        "  print('Subtraction is: ',a-b)\n",
        "elif m=='*':\n",
        "  print('Multiplication is: ',a*b)\n",
        "elif m=='/':\n",
        "  print('Division is: ',a/b)\n",
        "else:\n",
        "  print('Enter valid choice.')"
      ],
      "metadata": {
        "colab": {
          "base_uri": "https://localhost:8080/"
        },
        "id": "m0ZYA8Bnzg3Z",
        "outputId": "e190b247-06fa-42d9-bc99-e1cf09148f13"
      },
      "execution_count": 44,
      "outputs": [
        {
          "output_type": "stream",
          "name": "stdout",
          "text": [
            "Enter first number: 10\n",
            "Enter second number: 5\n",
            "Enter choice: + | - | * | / : /\n",
            "Division is:  2.0\n"
          ]
        }
      ]
    },
    {
      "cell_type": "markdown",
      "source": [
        "**Q.7) Convert Paise in Rupees & Paises**"
      ],
      "metadata": {
        "id": "cMsWrjQF33Sc"
      }
    },
    {
      "cell_type": "code",
      "source": [
        "p=int(input('Enter paise: '))\n",
        "a=0\n",
        "if p>100:\n",
        "  b= p%100\n",
        "  c= p//100\n",
        "  print(p,'Paise equals to',c,'Rupees and',b,'Paise.')\n",
        "else:\n",
        "  print(p,'Paise')"
      ],
      "metadata": {
        "colab": {
          "base_uri": "https://localhost:8080/"
        },
        "id": "dMAlkQ0S3BPw",
        "outputId": "c23254f1-f84c-4faa-ae0d-e6158d152d8d"
      },
      "execution_count": 47,
      "outputs": [
        {
          "output_type": "stream",
          "name": "stdout",
          "text": [
            "Enter paise: 250\n",
            "250 Paise equals to 2 Rupees and 50 Paise.\n"
          ]
        }
      ]
    },
    {
      "cell_type": "code",
      "source": [
        ""
      ],
      "metadata": {
        "id": "IUx0UuTy4kNu"
      },
      "execution_count": null,
      "outputs": []
    }
  ]
}